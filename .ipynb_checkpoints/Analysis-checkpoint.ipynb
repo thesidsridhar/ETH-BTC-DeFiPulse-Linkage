{
 "cells": [
  {
   "cell_type": "code",
   "execution_count": null,
   "metadata": {},
   "outputs": [],
   "source": [
    "#https://blog.patricktriest.com/analyzing-cryptocurrencies-python/"
   ]
  },
  {
   "cell_type": "code",
   "execution_count": 12,
   "metadata": {},
   "outputs": [
    {
     "data": {
      "text/plain": [
       "{'All': {'total': 26765300132,\n",
       "  'dominance_name': 'Maker',\n",
       "  'dominance_value': 4667842473,\n",
       "  'value': {'total': {'USD': {'value': 26765300132},\n",
       "    'ETH': {'value': 7253146.269785887},\n",
       "    'BTC': {'value': 44951.35189}},\n",
       "   'balance': {'ERC20': {'DAI': {'value': 939647923.0656682}}},\n",
       "   'tvl': {'ETH': {'value': 20519225.345951278}}},\n",
       "  'dominance_pct': 17.439903344925437},\n",
       " 'Lending': {'total': 12445170907,\n",
       "  'dominance_name': 'Maker',\n",
       "  'dominance_value': 4667842473,\n",
       "  'value': {'total': {'USD': {'value': 12445170907},\n",
       "    'ETH': {'value': 4508736.1934296405},\n",
       "    'BTC': {'value': 12002.558877}},\n",
       "   'balance': {'ERC20': {'DAI': {'value': 254443630.41619068}}},\n",
       "   'tvl': {'ETH': {'value': 9552087.011550803}}},\n",
       "  'dominance_pct': 37.50725890292508},\n",
       " 'DEXes': {'total': 9525312109,\n",
       "  'dominance_name': 'Uniswap',\n",
       "  'dominance_value': 3159423717,\n",
       "  'value': {'total': {'USD': {'value': 9525312109},\n",
       "    'ETH': {'value': 2366297.6547610005},\n",
       "    'BTC': {'value': 45007.617032999995}},\n",
       "   'balance': {'ERC20': {'DAI': {'value': 646225222.4267737}}},\n",
       "   'tvl': {'ETH': {'value': 7264222.663595686}}},\n",
       "  'dominance_pct': 33.16871595225542},\n",
       " 'Derivatives': {'total': 2212940470,\n",
       "  'dominance_name': 'Synthetix',\n",
       "  'dominance_value': 1871078372,\n",
       "  'value': {'total': {'USD': {'value': 2212940470},\n",
       "    'ETH': {'value': 191877.23659424737},\n",
       "    'BTC': {'value': 722.092225}},\n",
       "   'balance': {'ERC20': {'DAI': {'value': 12909272.201315999}}},\n",
       "   'tvl': {'ETH': {'value': 1712907.4362378519}}},\n",
       "  'dominance_pct': 84.55168122981637},\n",
       " 'Payments': {'total': 261620544,\n",
       "  'dominance_name': 'Flexa',\n",
       "  'dominance_value': 178758123,\n",
       "  'value': {'total': {'USD': {'value': 261620544},\n",
       "    'ETH': {'value': 1345.17618},\n",
       "    'BTC': {'value': 1067.911857}},\n",
       "   'balance': {'ERC20': {'DAI': {'value': 2589947.002107723}}},\n",
       "   'tvl': {'ETH': {'value': 201646.63847623699}}},\n",
       "  'dominance_pct': 68.32724994257332},\n",
       " 'Assets': {'total': 2320256102,\n",
       "  'dominance_name': 'Badger DAO',\n",
       "  'dominance_value': 963487610,\n",
       "  'value': {'total': {'USD': {'value': 2320256102},\n",
       "    'ETH': {'value': 184890.008821},\n",
       "    'BTC': {'value': 31865.374477000005}},\n",
       "   'balance': {'ERC20': {'DAI': {'value': 23479851.019279998}}},\n",
       "   'tvl': {'ETH': {'value': 1788361.5960907028}}},\n",
       "  'dominance_pct': 41.525054461423416}}"
      ]
     },
     "execution_count": 12,
     "metadata": {},
     "output_type": "execute_result"
    }
   ],
   "source": [
    "#Goal: Determine time/price lag between BTC and ETH & DeFi Pulse index\n",
    "#Import time series from crypto market\n",
    "import pandas as pd\n",
    "import numpy as np\n",
    "import matplotlib.pyplot as plt\n",
    "import seaborn as sns\n",
    "from datetime import datetime\n",
    "\n",
    "\n",
    "#using yahoo finance to chart 1 year BTC & ETH data and DeFi subsets\n",
    "\n",
    "BTC = pd.read_csv('BTC-USD.csv')\n",
    "ETH = pd.read_csv('ETH-USD.csv')\n",
    "\n",
    "url = 'https://data-api.defipulse.com/api/v1/defipulse/api/MarketData?api-key=c18ba66cc837e3c261807c2a0f831936abd974975a358a727674770ce3e5'\n",
    "response = requests.get(url)\n",
    "result = json.loads(response.text)\n",
    "\n",
    "#research how to get DeFi Pulse csv\n",
    "DEFI = pd.read_csv(result)"
   ]
  },
  {
   "cell_type": "code",
   "execution_count": null,
   "metadata": {},
   "outputs": [],
   "source": [
    "#Chart prices"
   ]
  },
  {
   "cell_type": "code",
   "execution_count": null,
   "metadata": {},
   "outputs": [],
   "source": [
    "#Segment price data in chunks of different lag times"
   ]
  },
  {
   "cell_type": "code",
   "execution_count": null,
   "metadata": {},
   "outputs": [],
   "source": [
    "#Different time periods (1,2,3,4,5 days)"
   ]
  },
  {
   "cell_type": "code",
   "execution_count": null,
   "metadata": {},
   "outputs": [],
   "source": [
    "#Log regress prices of BTC and ETH and DeFi pulse within these samples"
   ]
  },
  {
   "cell_type": "code",
   "execution_count": null,
   "metadata": {},
   "outputs": [],
   "source": [
    "#Determine correlations in price returns within each sample"
   ]
  },
  {
   "cell_type": "code",
   "execution_count": null,
   "metadata": {},
   "outputs": [],
   "source": [
    "#Backtest using Gradient boosting machine"
   ]
  },
  {
   "cell_type": "code",
   "execution_count": null,
   "metadata": {},
   "outputs": [],
   "source": []
  }
 ],
 "metadata": {
  "kernelspec": {
   "display_name": "Python 3",
   "language": "python",
   "name": "python3"
  },
  "language_info": {
   "codemirror_mode": {
    "name": "ipython",
    "version": 3
   },
   "file_extension": ".py",
   "mimetype": "text/x-python",
   "name": "python",
   "nbconvert_exporter": "python",
   "pygments_lexer": "ipython3",
   "version": "3.8.3"
  }
 },
 "nbformat": 4,
 "nbformat_minor": 4
}
